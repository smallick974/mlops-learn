{
  "cells": [
    {
      "cell_type": "code",
      "source": [
        "datastore_name = \"testdata\"\n",
        "container_name = \"test-data\"\n",
        "account_name = \"irisdatastorage1\"\n",
        "account_key = \"G5j5QwlddhQyd4C1oGSbfs35kVRVovZIkf3eF1o1+77mOozeSsQPulZh1pMqVLC+ibj1Wwe0YNkq+AStdSxNKw==\""
      ],
      "outputs": [],
      "execution_count": 7,
      "metadata": {
        "jupyter": {
          "source_hidden": false,
          "outputs_hidden": false
        },
        "nteract": {
          "transient": {
            "deleting": false
          }
        },
        "gather": {
          "logged": 1731325181030
        }
      }
    },
    {
      "cell_type": "code",
      "source": [
        "from azureml.core import Workspace, Datastore\n",
        "from azureml.core.dataset import Dataset"
      ],
      "outputs": [],
      "execution_count": 11,
      "metadata": {
        "gather": {
          "logged": 1731325209596
        }
      }
    },
    {
      "cell_type": "code",
      "source": [
        "# Connect to your Azure ML workspace\n",
        "ws = Workspace.from_config()"
      ],
      "outputs": [],
      "execution_count": 9,
      "metadata": {
        "jupyter": {
          "source_hidden": false,
          "outputs_hidden": false
        },
        "nteract": {
          "transient": {
            "deleting": false
          }
        },
        "gather": {
          "logged": 1731325184529
        }
      }
    },
    {
      "cell_type": "code",
      "source": [
        "# Register the blob storage account as a datastore\n",
        "datastore = Datastore.register_azure_blob_container(\n",
        "    workspace = ws,\n",
        "    datastore_name = datastore_name,\n",
        "    container_name = container_name,\n",
        "    account_name = account_name,\n",
        "    account_key = account_key,\n",
        "    create_if_not_exists = True\n",
        ")"
      ],
      "outputs": [],
      "execution_count": 10,
      "metadata": {
        "jupyter": {
          "source_hidden": false,
          "outputs_hidden": false
        },
        "nteract": {
          "transient": {
            "deleting": false
          }
        },
        "gather": {
          "logged": 1731325186824
        }
      }
    },
    {
      "cell_type": "code",
      "source": [
        "# Define the path to the data in the datastore\n",
        "datastore_path = [(datastore, 'iris.csv')]\n",
        "\n",
        "# Create a TabularDataset from the data in the datastore\n",
        "dataset = Dataset.Tabular.from_delimited_files(path=datastore_path)\n",
        "\n",
        "# Register the dataset in the workspace (optional)\n",
        "dataset = dataset.register(\n",
        "    workspace=ws,\n",
        "    name='iris_data_set',\n",
        "    description='registering iris dataset',\n",
        "    create_new_version=True\n",
        ")"
      ],
      "outputs": [],
      "execution_count": 12,
      "metadata": {
        "jupyter": {
          "source_hidden": false,
          "outputs_hidden": false
        },
        "nteract": {
          "transient": {
            "deleting": false
          }
        },
        "gather": {
          "logged": 1731325241871
        }
      }
    },
    {
      "cell_type": "code",
      "source": [
        "# Load the dataset into a pandas DataFrame for further processing \n",
        "df = dataset.to_pandas_dataframe()\n",
        "\n",
        "print(df.head(2))"
      ],
      "outputs": [
        {
          "output_type": "stream",
          "name": "stdout",
          "text": "{'infer_column_types': 'False', 'activity': 'to_pandas_dataframe'}\n{'infer_column_types': 'False', 'activity': 'to_pandas_dataframe', 'activityApp': 'TabularDataset'}\n   Id  SepalLengthCm  SepalWidthCm  PetalLengthCm  PetalWidthCm      Species\n0   1            5.1           3.5            1.4           0.2  Iris-setosa\n1   2            4.9           3.0            1.4           0.2  Iris-setosa\n"
        }
      ],
      "execution_count": 14,
      "metadata": {
        "jupyter": {
          "source_hidden": false,
          "outputs_hidden": false
        },
        "nteract": {
          "transient": {
            "deleting": false
          }
        },
        "gather": {
          "logged": 1731325278477
        }
      }
    }
  ],
  "metadata": {
    "kernelspec": {
      "name": "python310-sdkv2",
      "language": "python",
      "display_name": "Python 3.10 - SDK v2"
    },
    "language_info": {
      "name": "python",
      "version": "3.10.14",
      "mimetype": "text/x-python",
      "codemirror_mode": {
        "name": "ipython",
        "version": 3
      },
      "pygments_lexer": "ipython3",
      "nbconvert_exporter": "python",
      "file_extension": ".py"
    },
    "microsoft": {
      "ms_spell_check": {
        "ms_spell_check_language": "en"
      },
      "host": {
        "AzureML": {
          "notebookHasBeenCompleted": true
        }
      }
    },
    "kernel_info": {
      "name": "python310-sdkv2"
    },
    "nteract": {
      "version": "nteract-front-end@1.0.0"
    }
  },
  "nbformat": 4,
  "nbformat_minor": 2
}